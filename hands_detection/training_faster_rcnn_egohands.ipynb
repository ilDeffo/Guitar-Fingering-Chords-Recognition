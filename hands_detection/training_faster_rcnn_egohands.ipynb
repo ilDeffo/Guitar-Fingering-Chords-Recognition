{
  "nbformat": 4,
  "nbformat_minor": 0,
  "metadata": {
    "colab": {
      "name": "training_faster-rcnn_egohands.ipynb",
      "provenance": [],
      "collapsed_sections": []
    },
    "kernelspec": {
      "name": "python3",
      "display_name": "Python 3"
    },
    "language_info": {
      "name": "python"
    },
    "widgets": {
      "application/vnd.jupyter.widget-state+json": {
        "092894d36ba841eb91319d027692607a": {
          "model_module": "@jupyter-widgets/controls",
          "model_name": "HBoxModel",
          "model_module_version": "1.5.0",
          "state": {
            "_view_name": "HBoxView",
            "_dom_classes": [],
            "_model_name": "HBoxModel",
            "_view_module": "@jupyter-widgets/controls",
            "_model_module_version": "1.5.0",
            "_view_count": null,
            "_view_module_version": "1.5.0",
            "box_style": "",
            "layout": "IPY_MODEL_9bd271c4a7ca49dfb2078a5ba4ebbc3b",
            "_model_module": "@jupyter-widgets/controls",
            "children": [
              "IPY_MODEL_7183a5b4332e49298ac90c95b901d677",
              "IPY_MODEL_ed696359d5d14e4c9f06bce48502530f",
              "IPY_MODEL_d3f561ace3984679b7b106b04f517394"
            ]
          }
        },
        "9bd271c4a7ca49dfb2078a5ba4ebbc3b": {
          "model_module": "@jupyter-widgets/base",
          "model_name": "LayoutModel",
          "model_module_version": "1.2.0",
          "state": {
            "_view_name": "LayoutView",
            "grid_template_rows": null,
            "right": null,
            "justify_content": null,
            "_view_module": "@jupyter-widgets/base",
            "overflow": null,
            "_model_module_version": "1.2.0",
            "_view_count": null,
            "flex_flow": null,
            "width": null,
            "min_width": null,
            "border": null,
            "align_items": null,
            "bottom": null,
            "_model_module": "@jupyter-widgets/base",
            "top": null,
            "grid_column": null,
            "overflow_y": null,
            "overflow_x": null,
            "grid_auto_flow": null,
            "grid_area": null,
            "grid_template_columns": null,
            "flex": null,
            "_model_name": "LayoutModel",
            "justify_items": null,
            "grid_row": null,
            "max_height": null,
            "align_content": null,
            "visibility": null,
            "align_self": null,
            "height": null,
            "min_height": null,
            "padding": null,
            "grid_auto_rows": null,
            "grid_gap": null,
            "max_width": null,
            "order": null,
            "_view_module_version": "1.2.0",
            "grid_template_areas": null,
            "object_position": null,
            "object_fit": null,
            "grid_auto_columns": null,
            "margin": null,
            "display": null,
            "left": null
          }
        },
        "7183a5b4332e49298ac90c95b901d677": {
          "model_module": "@jupyter-widgets/controls",
          "model_name": "HTMLModel",
          "model_module_version": "1.5.0",
          "state": {
            "_view_name": "HTMLView",
            "style": "IPY_MODEL_d0b8ece4da0d4819a194c05b1108f8fb",
            "_dom_classes": [],
            "description": "",
            "_model_name": "HTMLModel",
            "placeholder": "​",
            "_view_module": "@jupyter-widgets/controls",
            "_model_module_version": "1.5.0",
            "value": "100%",
            "_view_count": null,
            "_view_module_version": "1.5.0",
            "description_tooltip": null,
            "_model_module": "@jupyter-widgets/controls",
            "layout": "IPY_MODEL_7a83b8af3a754187b5210602ac4cc210"
          }
        },
        "ed696359d5d14e4c9f06bce48502530f": {
          "model_module": "@jupyter-widgets/controls",
          "model_name": "FloatProgressModel",
          "model_module_version": "1.5.0",
          "state": {
            "_view_name": "ProgressView",
            "style": "IPY_MODEL_2f93b65e83674dcab723c4806894a6d7",
            "_dom_classes": [],
            "description": "",
            "_model_name": "FloatProgressModel",
            "bar_style": "success",
            "max": 22139423,
            "_view_module": "@jupyter-widgets/controls",
            "_model_module_version": "1.5.0",
            "value": 22139423,
            "_view_count": null,
            "_view_module_version": "1.5.0",
            "orientation": "horizontal",
            "min": 0,
            "description_tooltip": null,
            "_model_module": "@jupyter-widgets/controls",
            "layout": "IPY_MODEL_a112638cfa9241f398fd0b2af7d03405"
          }
        },
        "d3f561ace3984679b7b106b04f517394": {
          "model_module": "@jupyter-widgets/controls",
          "model_name": "HTMLModel",
          "model_module_version": "1.5.0",
          "state": {
            "_view_name": "HTMLView",
            "style": "IPY_MODEL_290d2721966941eda910118b3cdb3de5",
            "_dom_classes": [],
            "description": "",
            "_model_name": "HTMLModel",
            "placeholder": "​",
            "_view_module": "@jupyter-widgets/controls",
            "_model_module_version": "1.5.0",
            "value": " 21.1M/21.1M [00:00&lt;00:00, 49.4MB/s]",
            "_view_count": null,
            "_view_module_version": "1.5.0",
            "description_tooltip": null,
            "_model_module": "@jupyter-widgets/controls",
            "layout": "IPY_MODEL_6c5bc5180708413ea0259bae6788487f"
          }
        },
        "d0b8ece4da0d4819a194c05b1108f8fb": {
          "model_module": "@jupyter-widgets/controls",
          "model_name": "DescriptionStyleModel",
          "model_module_version": "1.5.0",
          "state": {
            "_view_name": "StyleView",
            "_model_name": "DescriptionStyleModel",
            "description_width": "",
            "_view_module": "@jupyter-widgets/base",
            "_model_module_version": "1.5.0",
            "_view_count": null,
            "_view_module_version": "1.2.0",
            "_model_module": "@jupyter-widgets/controls"
          }
        },
        "7a83b8af3a754187b5210602ac4cc210": {
          "model_module": "@jupyter-widgets/base",
          "model_name": "LayoutModel",
          "model_module_version": "1.2.0",
          "state": {
            "_view_name": "LayoutView",
            "grid_template_rows": null,
            "right": null,
            "justify_content": null,
            "_view_module": "@jupyter-widgets/base",
            "overflow": null,
            "_model_module_version": "1.2.0",
            "_view_count": null,
            "flex_flow": null,
            "width": null,
            "min_width": null,
            "border": null,
            "align_items": null,
            "bottom": null,
            "_model_module": "@jupyter-widgets/base",
            "top": null,
            "grid_column": null,
            "overflow_y": null,
            "overflow_x": null,
            "grid_auto_flow": null,
            "grid_area": null,
            "grid_template_columns": null,
            "flex": null,
            "_model_name": "LayoutModel",
            "justify_items": null,
            "grid_row": null,
            "max_height": null,
            "align_content": null,
            "visibility": null,
            "align_self": null,
            "height": null,
            "min_height": null,
            "padding": null,
            "grid_auto_rows": null,
            "grid_gap": null,
            "max_width": null,
            "order": null,
            "_view_module_version": "1.2.0",
            "grid_template_areas": null,
            "object_position": null,
            "object_fit": null,
            "grid_auto_columns": null,
            "margin": null,
            "display": null,
            "left": null
          }
        },
        "2f93b65e83674dcab723c4806894a6d7": {
          "model_module": "@jupyter-widgets/controls",
          "model_name": "ProgressStyleModel",
          "model_module_version": "1.5.0",
          "state": {
            "_view_name": "StyleView",
            "_model_name": "ProgressStyleModel",
            "description_width": "",
            "_view_module": "@jupyter-widgets/base",
            "_model_module_version": "1.5.0",
            "_view_count": null,
            "_view_module_version": "1.2.0",
            "bar_color": null,
            "_model_module": "@jupyter-widgets/controls"
          }
        },
        "a112638cfa9241f398fd0b2af7d03405": {
          "model_module": "@jupyter-widgets/base",
          "model_name": "LayoutModel",
          "model_module_version": "1.2.0",
          "state": {
            "_view_name": "LayoutView",
            "grid_template_rows": null,
            "right": null,
            "justify_content": null,
            "_view_module": "@jupyter-widgets/base",
            "overflow": null,
            "_model_module_version": "1.2.0",
            "_view_count": null,
            "flex_flow": null,
            "width": null,
            "min_width": null,
            "border": null,
            "align_items": null,
            "bottom": null,
            "_model_module": "@jupyter-widgets/base",
            "top": null,
            "grid_column": null,
            "overflow_y": null,
            "overflow_x": null,
            "grid_auto_flow": null,
            "grid_area": null,
            "grid_template_columns": null,
            "flex": null,
            "_model_name": "LayoutModel",
            "justify_items": null,
            "grid_row": null,
            "max_height": null,
            "align_content": null,
            "visibility": null,
            "align_self": null,
            "height": null,
            "min_height": null,
            "padding": null,
            "grid_auto_rows": null,
            "grid_gap": null,
            "max_width": null,
            "order": null,
            "_view_module_version": "1.2.0",
            "grid_template_areas": null,
            "object_position": null,
            "object_fit": null,
            "grid_auto_columns": null,
            "margin": null,
            "display": null,
            "left": null
          }
        },
        "290d2721966941eda910118b3cdb3de5": {
          "model_module": "@jupyter-widgets/controls",
          "model_name": "DescriptionStyleModel",
          "model_module_version": "1.5.0",
          "state": {
            "_view_name": "StyleView",
            "_model_name": "DescriptionStyleModel",
            "description_width": "",
            "_view_module": "@jupyter-widgets/base",
            "_model_module_version": "1.5.0",
            "_view_count": null,
            "_view_module_version": "1.2.0",
            "_model_module": "@jupyter-widgets/controls"
          }
        },
        "6c5bc5180708413ea0259bae6788487f": {
          "model_module": "@jupyter-widgets/base",
          "model_name": "LayoutModel",
          "model_module_version": "1.2.0",
          "state": {
            "_view_name": "LayoutView",
            "grid_template_rows": null,
            "right": null,
            "justify_content": null,
            "_view_module": "@jupyter-widgets/base",
            "overflow": null,
            "_model_module_version": "1.2.0",
            "_view_count": null,
            "flex_flow": null,
            "width": null,
            "min_width": null,
            "border": null,
            "align_items": null,
            "bottom": null,
            "_model_module": "@jupyter-widgets/base",
            "top": null,
            "grid_column": null,
            "overflow_y": null,
            "overflow_x": null,
            "grid_auto_flow": null,
            "grid_area": null,
            "grid_template_columns": null,
            "flex": null,
            "_model_name": "LayoutModel",
            "justify_items": null,
            "grid_row": null,
            "max_height": null,
            "align_content": null,
            "visibility": null,
            "align_self": null,
            "height": null,
            "min_height": null,
            "padding": null,
            "grid_auto_rows": null,
            "grid_gap": null,
            "max_width": null,
            "order": null,
            "_view_module_version": "1.2.0",
            "grid_template_areas": null,
            "object_position": null,
            "object_fit": null,
            "grid_auto_columns": null,
            "margin": null,
            "display": null,
            "left": null
          }
        },
        "4902875a7ed6492288127efc70b7363d": {
          "model_module": "@jupyter-widgets/controls",
          "model_name": "HBoxModel",
          "model_module_version": "1.5.0",
          "state": {
            "_view_name": "HBoxView",
            "_dom_classes": [],
            "_model_name": "HBoxModel",
            "_view_module": "@jupyter-widgets/controls",
            "_model_module_version": "1.5.0",
            "_view_count": null,
            "_view_module_version": "1.5.0",
            "box_style": "",
            "layout": "IPY_MODEL_f22e1cfb69184db483d903616eca4fcc",
            "_model_module": "@jupyter-widgets/controls",
            "children": [
              "IPY_MODEL_5a493dd6f6c144b8b39fbe0acddb30c8",
              "IPY_MODEL_373cac3325d5468fbf751d4d8b55f284",
              "IPY_MODEL_4f426cafbddf41c19977d0428d32f563"
            ]
          }
        },
        "f22e1cfb69184db483d903616eca4fcc": {
          "model_module": "@jupyter-widgets/base",
          "model_name": "LayoutModel",
          "model_module_version": "1.2.0",
          "state": {
            "_view_name": "LayoutView",
            "grid_template_rows": null,
            "right": null,
            "justify_content": null,
            "_view_module": "@jupyter-widgets/base",
            "overflow": null,
            "_model_module_version": "1.2.0",
            "_view_count": null,
            "flex_flow": null,
            "width": null,
            "min_width": null,
            "border": null,
            "align_items": null,
            "bottom": null,
            "_model_module": "@jupyter-widgets/base",
            "top": null,
            "grid_column": null,
            "overflow_y": null,
            "overflow_x": null,
            "grid_auto_flow": null,
            "grid_area": null,
            "grid_template_columns": null,
            "flex": null,
            "_model_name": "LayoutModel",
            "justify_items": null,
            "grid_row": null,
            "max_height": null,
            "align_content": null,
            "visibility": null,
            "align_self": null,
            "height": null,
            "min_height": null,
            "padding": null,
            "grid_auto_rows": null,
            "grid_gap": null,
            "max_width": null,
            "order": null,
            "_view_module_version": "1.2.0",
            "grid_template_areas": null,
            "object_position": null,
            "object_fit": null,
            "grid_auto_columns": null,
            "margin": null,
            "display": null,
            "left": null
          }
        },
        "5a493dd6f6c144b8b39fbe0acddb30c8": {
          "model_module": "@jupyter-widgets/controls",
          "model_name": "HTMLModel",
          "model_module_version": "1.5.0",
          "state": {
            "_view_name": "HTMLView",
            "style": "IPY_MODEL_dfd74e216e71422b8450e3b8f1a1e6f2",
            "_dom_classes": [],
            "description": "",
            "_model_name": "HTMLModel",
            "placeholder": "​",
            "_view_module": "@jupyter-widgets/controls",
            "_model_module_version": "1.5.0",
            "value": "100%",
            "_view_count": null,
            "_view_module_version": "1.5.0",
            "description_tooltip": null,
            "_model_module": "@jupyter-widgets/controls",
            "layout": "IPY_MODEL_75de599049ae4f45afa33a1dde66724f"
          }
        },
        "373cac3325d5468fbf751d4d8b55f284": {
          "model_module": "@jupyter-widgets/controls",
          "model_name": "FloatProgressModel",
          "model_module_version": "1.5.0",
          "state": {
            "_view_name": "ProgressView",
            "style": "IPY_MODEL_91ccf961b98f44c7937944ab6e67cf68",
            "_dom_classes": [],
            "description": "",
            "_model_name": "FloatProgressModel",
            "bar_style": "success",
            "max": 480,
            "_view_module": "@jupyter-widgets/controls",
            "_model_module_version": "1.5.0",
            "value": 480,
            "_view_count": null,
            "_view_module_version": "1.5.0",
            "orientation": "horizontal",
            "min": 0,
            "description_tooltip": null,
            "_model_module": "@jupyter-widgets/controls",
            "layout": "IPY_MODEL_670d961efab942a98e0cd3f060d00d52"
          }
        },
        "4f426cafbddf41c19977d0428d32f563": {
          "model_module": "@jupyter-widgets/controls",
          "model_name": "HTMLModel",
          "model_module_version": "1.5.0",
          "state": {
            "_view_name": "HTMLView",
            "style": "IPY_MODEL_c6f5127916c640f788949309a51153f2",
            "_dom_classes": [],
            "description": "",
            "_model_name": "HTMLModel",
            "placeholder": "​",
            "_view_module": "@jupyter-widgets/controls",
            "_model_module_version": "1.5.0",
            "value": " 480/480 [21:55&lt;00:00,  2.68s/it]",
            "_view_count": null,
            "_view_module_version": "1.5.0",
            "description_tooltip": null,
            "_model_module": "@jupyter-widgets/controls",
            "layout": "IPY_MODEL_9804d2e09a5b4df384e1bf019b707179"
          }
        },
        "dfd74e216e71422b8450e3b8f1a1e6f2": {
          "model_module": "@jupyter-widgets/controls",
          "model_name": "DescriptionStyleModel",
          "model_module_version": "1.5.0",
          "state": {
            "_view_name": "StyleView",
            "_model_name": "DescriptionStyleModel",
            "description_width": "",
            "_view_module": "@jupyter-widgets/base",
            "_model_module_version": "1.5.0",
            "_view_count": null,
            "_view_module_version": "1.2.0",
            "_model_module": "@jupyter-widgets/controls"
          }
        },
        "75de599049ae4f45afa33a1dde66724f": {
          "model_module": "@jupyter-widgets/base",
          "model_name": "LayoutModel",
          "model_module_version": "1.2.0",
          "state": {
            "_view_name": "LayoutView",
            "grid_template_rows": null,
            "right": null,
            "justify_content": null,
            "_view_module": "@jupyter-widgets/base",
            "overflow": null,
            "_model_module_version": "1.2.0",
            "_view_count": null,
            "flex_flow": null,
            "width": null,
            "min_width": null,
            "border": null,
            "align_items": null,
            "bottom": null,
            "_model_module": "@jupyter-widgets/base",
            "top": null,
            "grid_column": null,
            "overflow_y": null,
            "overflow_x": null,
            "grid_auto_flow": null,
            "grid_area": null,
            "grid_template_columns": null,
            "flex": null,
            "_model_name": "LayoutModel",
            "justify_items": null,
            "grid_row": null,
            "max_height": null,
            "align_content": null,
            "visibility": null,
            "align_self": null,
            "height": null,
            "min_height": null,
            "padding": null,
            "grid_auto_rows": null,
            "grid_gap": null,
            "max_width": null,
            "order": null,
            "_view_module_version": "1.2.0",
            "grid_template_areas": null,
            "object_position": null,
            "object_fit": null,
            "grid_auto_columns": null,
            "margin": null,
            "display": null,
            "left": null
          }
        },
        "91ccf961b98f44c7937944ab6e67cf68": {
          "model_module": "@jupyter-widgets/controls",
          "model_name": "ProgressStyleModel",
          "model_module_version": "1.5.0",
          "state": {
            "_view_name": "StyleView",
            "_model_name": "ProgressStyleModel",
            "description_width": "",
            "_view_module": "@jupyter-widgets/base",
            "_model_module_version": "1.5.0",
            "_view_count": null,
            "_view_module_version": "1.2.0",
            "bar_color": null,
            "_model_module": "@jupyter-widgets/controls"
          }
        },
        "670d961efab942a98e0cd3f060d00d52": {
          "model_module": "@jupyter-widgets/base",
          "model_name": "LayoutModel",
          "model_module_version": "1.2.0",
          "state": {
            "_view_name": "LayoutView",
            "grid_template_rows": null,
            "right": null,
            "justify_content": null,
            "_view_module": "@jupyter-widgets/base",
            "overflow": null,
            "_model_module_version": "1.2.0",
            "_view_count": null,
            "flex_flow": null,
            "width": null,
            "min_width": null,
            "border": null,
            "align_items": null,
            "bottom": null,
            "_model_module": "@jupyter-widgets/base",
            "top": null,
            "grid_column": null,
            "overflow_y": null,
            "overflow_x": null,
            "grid_auto_flow": null,
            "grid_area": null,
            "grid_template_columns": null,
            "flex": null,
            "_model_name": "LayoutModel",
            "justify_items": null,
            "grid_row": null,
            "max_height": null,
            "align_content": null,
            "visibility": null,
            "align_self": null,
            "height": null,
            "min_height": null,
            "padding": null,
            "grid_auto_rows": null,
            "grid_gap": null,
            "max_width": null,
            "order": null,
            "_view_module_version": "1.2.0",
            "grid_template_areas": null,
            "object_position": null,
            "object_fit": null,
            "grid_auto_columns": null,
            "margin": null,
            "display": null,
            "left": null
          }
        },
        "c6f5127916c640f788949309a51153f2": {
          "model_module": "@jupyter-widgets/controls",
          "model_name": "DescriptionStyleModel",
          "model_module_version": "1.5.0",
          "state": {
            "_view_name": "StyleView",
            "_model_name": "DescriptionStyleModel",
            "description_width": "",
            "_view_module": "@jupyter-widgets/base",
            "_model_module_version": "1.5.0",
            "_view_count": null,
            "_view_module_version": "1.2.0",
            "_model_module": "@jupyter-widgets/controls"
          }
        },
        "9804d2e09a5b4df384e1bf019b707179": {
          "model_module": "@jupyter-widgets/base",
          "model_name": "LayoutModel",
          "model_module_version": "1.2.0",
          "state": {
            "_view_name": "LayoutView",
            "grid_template_rows": null,
            "right": null,
            "justify_content": null,
            "_view_module": "@jupyter-widgets/base",
            "overflow": null,
            "_model_module_version": "1.2.0",
            "_view_count": null,
            "flex_flow": null,
            "width": null,
            "min_width": null,
            "border": null,
            "align_items": null,
            "bottom": null,
            "_model_module": "@jupyter-widgets/base",
            "top": null,
            "grid_column": null,
            "overflow_y": null,
            "overflow_x": null,
            "grid_auto_flow": null,
            "grid_area": null,
            "grid_template_columns": null,
            "flex": null,
            "_model_name": "LayoutModel",
            "justify_items": null,
            "grid_row": null,
            "max_height": null,
            "align_content": null,
            "visibility": null,
            "align_self": null,
            "height": null,
            "min_height": null,
            "padding": null,
            "grid_auto_rows": null,
            "grid_gap": null,
            "max_width": null,
            "order": null,
            "_view_module_version": "1.2.0",
            "grid_template_areas": null,
            "object_position": null,
            "object_fit": null,
            "grid_auto_columns": null,
            "margin": null,
            "display": null,
            "left": null
          }
        }
      }
    },
    "accelerator": "GPU"
  },
  "cells": [
    {
      "cell_type": "code",
      "metadata": {
        "id": "aYndzF9bEY9s"
      },
      "source": [
        "import os\n",
        "import io\n",
        "import cv2 as cv\n",
        "import numpy as np\n",
        "import matplotlib.pyplot as plt\n",
        "import pandas as pd\n",
        "import torch\n",
        "from torch.utils.data import Dataset\n",
        "from torch.utils.data import DataLoader\n",
        "from tqdm.notebook import tqdm\n",
        "import torchvision\n",
        "import pandas as pd"
      ],
      "execution_count": null,
      "outputs": []
    },
    {
      "cell_type": "code",
      "metadata": {
        "id": "koCO55o9HYqh"
      },
      "source": [
        "class EgoHandsDataset(Dataset):\n",
        "    '''EgoHands dataset'''\n",
        "    def __init__(self, root_dir, transform=None):\n",
        "        \"\"\"\n",
        "        Args:\n",
        "            root_dir (string): Directory with all the images.\n",
        "            transform (callable, optional): Optional transform to be applied\n",
        "                on a sample.\n",
        "        \"\"\"\n",
        "        self.images_dir = os.path.join(root_dir, 'all_images')\n",
        "        self.bounding_boxes_file_name = os.path.join(root_dir, 'all_images_bounding_boxes.csv')\n",
        "        self.bounding_boxes = pd.read_csv(self.bounding_boxes_file_name)\n",
        "        self.transform = transform\n",
        "\n",
        "    def __len__(self):\n",
        "        return len(os.listdir(self.images_dir))\n",
        "\n",
        "    def __getitem__(self, idx):\n",
        "        '''\n",
        "        Funzione per ottenere un elemento del dataset\n",
        "\n",
        "        :param idx: Indice dell'elemento\n",
        "        :return: Una tupla (immagine, bounding_boxes) dove bounding_boxes è un tensore\n",
        "        '''\n",
        "        if torch.is_tensor(idx):\n",
        "            idx = idx.tolist()\n",
        "\n",
        "        x = self.bounding_boxes.iloc[idx]\n",
        "        img_name = os.path.join(self.images_dir, x['image_name'])\n",
        "        image = cv.imread(img_name)\n",
        "        image = cv.cvtColor(image, cv.COLOR_BGR2RGB)\n",
        "        image = np.moveaxis(image, 2, 0)\n",
        "        image = image.astype(np.float32) / 255.0\n",
        "        image = torch.from_numpy(image)\n",
        "\n",
        "        if self.transform:\n",
        "            image = self.transform(image)\n",
        "\n",
        "        bounding_boxes = torch.zeros((4, 4))\n",
        "        bounding_boxes[0] = torch.from_numpy(\n",
        "            x.loc[['box0_x1', 'box0_y1', 'box0_x2', 'box0_y2']].values.astype(np.float32))\n",
        "        bounding_boxes[1] = torch.from_numpy(\n",
        "            x.loc[['box1_x1', 'box1_y1', 'box1_x2', 'box1_y2']].values.astype(np.float32))\n",
        "        bounding_boxes[2] = torch.from_numpy(\n",
        "            x.loc[['box2_x1', 'box2_y1', 'box2_x2', 'box2_y2']].values.astype(np.float32))\n",
        "        bounding_boxes[3] = torch.from_numpy(\n",
        "            x.loc[['box3_x1', 'box3_y1', 'box3_x2', 'box3_y2']].values.astype(np.float32))\n",
        "\n",
        "        bounding_boxes = bounding_boxes[~torch.isnan(bounding_boxes[:, 0]), :]\n",
        "\n",
        "        target = {\n",
        "            'boxes': bounding_boxes,\n",
        "            'labels': torch.full((bounding_boxes.shape[0],), 1)\n",
        "        }\n",
        "\n",
        "        return image, target\n",
        "\n",
        "    @staticmethod\n",
        "    def egohands_collate_fn(data):\n",
        "        tmp = tuple(zip(*data))\n",
        "        images = tmp[0]\n",
        "        images = torch.stack(images, dim=0)\n",
        "        return images, tmp[1]"
      ],
      "execution_count": null,
      "outputs": []
    },
    {
      "cell_type": "code",
      "metadata": {
        "id": "r_UZbLEXP33p"
      },
      "source": [
        "# montare Google Drive. Si può fare dall'interfaccia grafica del sito"
      ],
      "execution_count": null,
      "outputs": []
    },
    {
      "cell_type": "code",
      "metadata": {
        "id": "y0sqm1OVQAjH"
      },
      "source": [
        "dataset = EgoHandsDataset('drive/MyDrive/egohands_data')"
      ],
      "execution_count": null,
      "outputs": []
    },
    {
      "cell_type": "code",
      "metadata": {
        "id": "qNMmMU18HTei",
        "colab": {
          "base_uri": "https://localhost:8080/",
          "height": 86,
          "referenced_widgets": [
            "092894d36ba841eb91319d027692607a",
            "9bd271c4a7ca49dfb2078a5ba4ebbc3b",
            "7183a5b4332e49298ac90c95b901d677",
            "ed696359d5d14e4c9f06bce48502530f",
            "d3f561ace3984679b7b106b04f517394",
            "d0b8ece4da0d4819a194c05b1108f8fb",
            "7a83b8af3a754187b5210602ac4cc210",
            "2f93b65e83674dcab723c4806894a6d7",
            "a112638cfa9241f398fd0b2af7d03405",
            "290d2721966941eda910118b3cdb3de5",
            "6c5bc5180708413ea0259bae6788487f"
          ]
        },
        "outputId": "35c2d4cf-4a59-47ca-aca9-28acb9d67ee5"
      },
      "source": [
        "model = torchvision.models.detection.fasterrcnn_mobilenet_v3_large_fpn(num_classes=2)"
      ],
      "execution_count": null,
      "outputs": [
        {
          "output_type": "stream",
          "name": "stderr",
          "text": [
            "Downloading: \"https://download.pytorch.org/models/mobilenet_v3_large-8738ca79.pth\" to /root/.cache/torch/hub/checkpoints/mobilenet_v3_large-8738ca79.pth\n"
          ]
        },
        {
          "output_type": "display_data",
          "data": {
            "application/vnd.jupyter.widget-view+json": {
              "model_id": "092894d36ba841eb91319d027692607a",
              "version_minor": 0,
              "version_major": 2
            },
            "text/plain": [
              "  0%|          | 0.00/21.1M [00:00<?, ?B/s]"
            ]
          },
          "metadata": {}
        }
      ]
    },
    {
      "cell_type": "code",
      "metadata": {
        "colab": {
          "base_uri": "https://localhost:8080/"
        },
        "id": "HCe4TZDYPkdO",
        "outputId": "30357e48-538b-432e-c4d0-148c88b1229f"
      },
      "source": [
        "loader = DataLoader(dataset, batch_size=10, shuffle=True, collate_fn=EgoHandsDataset.egohands_collate_fn, num_workers=8)"
      ],
      "execution_count": null,
      "outputs": [
        {
          "output_type": "stream",
          "name": "stderr",
          "text": [
            "/usr/local/lib/python3.7/dist-packages/torch/utils/data/dataloader.py:481: UserWarning: This DataLoader will create 8 worker processes in total. Our suggested max number of worker in current system is 2, which is smaller than what this DataLoader is going to create. Please be aware that excessive worker creation might get DataLoader running slow or even freeze, lower the worker number to avoid potential slowness/freeze if necessary.\n",
            "  cpuset_checked))\n"
          ]
        }
      ]
    },
    {
      "cell_type": "code",
      "metadata": {
        "id": "4JPS8cWDQ0v4"
      },
      "source": [
        "device = torch.device('cuda') if torch.cuda.is_available() else torch.device('cpu')"
      ],
      "execution_count": null,
      "outputs": []
    },
    {
      "cell_type": "code",
      "metadata": {
        "id": "ye-QSpH3Q3Fv"
      },
      "source": [
        "model = model.to(device)"
      ],
      "execution_count": null,
      "outputs": []
    },
    {
      "cell_type": "code",
      "metadata": {
        "id": "yzNOx9dLRPfw"
      },
      "source": [
        "epochs = 1"
      ],
      "execution_count": null,
      "outputs": []
    },
    {
      "cell_type": "code",
      "metadata": {
        "id": "1D3AdPNiSZvJ"
      },
      "source": [
        "def convert_targets_to_device(targets, device):\n",
        "  for x in targets:\n",
        "    x['boxes'] = x['boxes'].to(device)\n",
        "    x['labels'] = x['labels'].to(device)\n",
        "  return targets"
      ],
      "execution_count": null,
      "outputs": []
    },
    {
      "cell_type": "code",
      "metadata": {
        "id": "bG7Gj_HyUatY"
      },
      "source": [
        "params = [p for p in model.parameters() if p.requires_grad]\n",
        "opt = torch.optim.SGD(params, lr=0.005, momentum=0.9, weight_decay=0.0005)"
      ],
      "execution_count": null,
      "outputs": []
    },
    {
      "cell_type": "code",
      "metadata": {
        "colab": {
          "base_uri": "https://localhost:8080/",
          "height": 539,
          "referenced_widgets": [
            "4902875a7ed6492288127efc70b7363d",
            "f22e1cfb69184db483d903616eca4fcc",
            "5a493dd6f6c144b8b39fbe0acddb30c8",
            "373cac3325d5468fbf751d4d8b55f284",
            "4f426cafbddf41c19977d0428d32f563",
            "dfd74e216e71422b8450e3b8f1a1e6f2",
            "75de599049ae4f45afa33a1dde66724f",
            "91ccf961b98f44c7937944ab6e67cf68",
            "670d961efab942a98e0cd3f060d00d52",
            "c6f5127916c640f788949309a51153f2",
            "9804d2e09a5b4df384e1bf019b707179"
          ]
        },
        "id": "4QVdZ8pEQbRE",
        "outputId": "e9a3c7d7-42ae-4ff7-8318-4b99e186e6f4"
      },
      "source": [
        "for e in range(epochs):\n",
        "  for i, (images, targets) in enumerate(tqdm(loader)):\n",
        "    images = images.to(device)\n",
        "    targets = convert_targets_to_device(targets, device)\n",
        "    #import pdb; pdb.set_trace()\n",
        "\n",
        "    out = model(images, targets)\n",
        "\n",
        "    if i % 20 == 0:\n",
        "      print(out)\n",
        "    \n",
        "    opt.zero_grad()\n",
        "\n",
        "    for idx, key in enumerate(out.keys()):\n",
        "      if idx < len(out) - 1:\n",
        "        out[key].backward(retain_graph=True)\n",
        "      else:\n",
        "        out[key].backward()\n",
        "    \n",
        "    opt.step()"
      ],
      "execution_count": null,
      "outputs": [
        {
          "output_type": "display_data",
          "data": {
            "application/vnd.jupyter.widget-view+json": {
              "model_id": "4902875a7ed6492288127efc70b7363d",
              "version_minor": 0,
              "version_major": 2
            },
            "text/plain": [
              "  0%|          | 0/480 [00:00<?, ?it/s]"
            ]
          },
          "metadata": {}
        },
        {
          "output_type": "stream",
          "name": "stderr",
          "text": [
            "/usr/local/lib/python3.7/dist-packages/torch/utils/data/dataloader.py:481: UserWarning: This DataLoader will create 8 worker processes in total. Our suggested max number of worker in current system is 2, which is smaller than what this DataLoader is going to create. Please be aware that excessive worker creation might get DataLoader running slow or even freeze, lower the worker number to avoid potential slowness/freeze if necessary.\n",
            "  cpuset_checked))\n",
            "/usr/local/lib/python3.7/dist-packages/torch/nn/functional.py:718: UserWarning: Named tensors and all their associated APIs are an experimental feature and subject to change. Please do not use them for anything important until they are released as stable. (Triggered internally at  /pytorch/c10/core/TensorImpl.h:1156.)\n",
            "  return torch.max_pool2d(input, kernel_size, stride, padding, dilation, ceil_mode)\n"
          ]
        },
        {
          "output_type": "stream",
          "name": "stdout",
          "text": [
            "{'loss_classifier': tensor(0.7549, device='cuda:0', grad_fn=<NllLossBackward>), 'loss_box_reg': tensor(0.0884, device='cuda:0', grad_fn=<DivBackward0>), 'loss_objectness': tensor(0.7029, device='cuda:0', grad_fn=<BinaryCrossEntropyWithLogitsBackward>), 'loss_rpn_box_reg': tensor(0.0392, device='cuda:0', grad_fn=<DivBackward0>)}\n",
            "{'loss_classifier': tensor(0.1887, device='cuda:0', grad_fn=<NllLossBackward>), 'loss_box_reg': tensor(0.2587, device='cuda:0', grad_fn=<DivBackward0>), 'loss_objectness': tensor(0.6194, device='cuda:0', grad_fn=<BinaryCrossEntropyWithLogitsBackward>), 'loss_rpn_box_reg': tensor(0.0228, device='cuda:0', grad_fn=<DivBackward0>)}\n",
            "{'loss_classifier': tensor(0.2275, device='cuda:0', grad_fn=<NllLossBackward>), 'loss_box_reg': tensor(0.3444, device='cuda:0', grad_fn=<DivBackward0>), 'loss_objectness': tensor(0.1896, device='cuda:0', grad_fn=<BinaryCrossEntropyWithLogitsBackward>), 'loss_rpn_box_reg': tensor(0.0409, device='cuda:0', grad_fn=<DivBackward0>)}\n",
            "{'loss_classifier': tensor(0.2347, device='cuda:0', grad_fn=<NllLossBackward>), 'loss_box_reg': tensor(0.4426, device='cuda:0', grad_fn=<DivBackward0>), 'loss_objectness': tensor(0.0820, device='cuda:0', grad_fn=<BinaryCrossEntropyWithLogitsBackward>), 'loss_rpn_box_reg': tensor(0.0247, device='cuda:0', grad_fn=<DivBackward0>)}\n",
            "{'loss_classifier': tensor(0.2076, device='cuda:0', grad_fn=<NllLossBackward>), 'loss_box_reg': tensor(0.4324, device='cuda:0', grad_fn=<DivBackward0>), 'loss_objectness': tensor(0.0856, device='cuda:0', grad_fn=<BinaryCrossEntropyWithLogitsBackward>), 'loss_rpn_box_reg': tensor(0.0346, device='cuda:0', grad_fn=<DivBackward0>)}\n",
            "{'loss_classifier': tensor(0.1591, device='cuda:0', grad_fn=<NllLossBackward>), 'loss_box_reg': tensor(0.3554, device='cuda:0', grad_fn=<DivBackward0>), 'loss_objectness': tensor(0.0700, device='cuda:0', grad_fn=<BinaryCrossEntropyWithLogitsBackward>), 'loss_rpn_box_reg': tensor(0.0258, device='cuda:0', grad_fn=<DivBackward0>)}\n",
            "{'loss_classifier': tensor(0.1442, device='cuda:0', grad_fn=<NllLossBackward>), 'loss_box_reg': tensor(0.3127, device='cuda:0', grad_fn=<DivBackward0>), 'loss_objectness': tensor(0.0374, device='cuda:0', grad_fn=<BinaryCrossEntropyWithLogitsBackward>), 'loss_rpn_box_reg': tensor(0.0138, device='cuda:0', grad_fn=<DivBackward0>)}\n",
            "{'loss_classifier': tensor(0.1938, device='cuda:0', grad_fn=<NllLossBackward>), 'loss_box_reg': tensor(0.4135, device='cuda:0', grad_fn=<DivBackward0>), 'loss_objectness': tensor(0.0766, device='cuda:0', grad_fn=<BinaryCrossEntropyWithLogitsBackward>), 'loss_rpn_box_reg': tensor(0.0252, device='cuda:0', grad_fn=<DivBackward0>)}\n",
            "{'loss_classifier': tensor(0.1571, device='cuda:0', grad_fn=<NllLossBackward>), 'loss_box_reg': tensor(0.3199, device='cuda:0', grad_fn=<DivBackward0>), 'loss_objectness': tensor(0.0429, device='cuda:0', grad_fn=<BinaryCrossEntropyWithLogitsBackward>), 'loss_rpn_box_reg': tensor(0.0249, device='cuda:0', grad_fn=<DivBackward0>)}\n",
            "{'loss_classifier': tensor(0.1845, device='cuda:0', grad_fn=<NllLossBackward>), 'loss_box_reg': tensor(0.3588, device='cuda:0', grad_fn=<DivBackward0>), 'loss_objectness': tensor(0.0525, device='cuda:0', grad_fn=<BinaryCrossEntropyWithLogitsBackward>), 'loss_rpn_box_reg': tensor(0.0201, device='cuda:0', grad_fn=<DivBackward0>)}\n",
            "{'loss_classifier': tensor(0.1594, device='cuda:0', grad_fn=<NllLossBackward>), 'loss_box_reg': tensor(0.3115, device='cuda:0', grad_fn=<DivBackward0>), 'loss_objectness': tensor(0.0456, device='cuda:0', grad_fn=<BinaryCrossEntropyWithLogitsBackward>), 'loss_rpn_box_reg': tensor(0.0293, device='cuda:0', grad_fn=<DivBackward0>)}\n",
            "{'loss_classifier': tensor(0.1627, device='cuda:0', grad_fn=<NllLossBackward>), 'loss_box_reg': tensor(0.3632, device='cuda:0', grad_fn=<DivBackward0>), 'loss_objectness': tensor(0.0521, device='cuda:0', grad_fn=<BinaryCrossEntropyWithLogitsBackward>), 'loss_rpn_box_reg': tensor(0.0132, device='cuda:0', grad_fn=<DivBackward0>)}\n",
            "{'loss_classifier': tensor(0.1539, device='cuda:0', grad_fn=<NllLossBackward>), 'loss_box_reg': tensor(0.3107, device='cuda:0', grad_fn=<DivBackward0>), 'loss_objectness': tensor(0.0517, device='cuda:0', grad_fn=<BinaryCrossEntropyWithLogitsBackward>), 'loss_rpn_box_reg': tensor(0.0243, device='cuda:0', grad_fn=<DivBackward0>)}\n",
            "{'loss_classifier': tensor(0.1635, device='cuda:0', grad_fn=<NllLossBackward>), 'loss_box_reg': tensor(0.3133, device='cuda:0', grad_fn=<DivBackward0>), 'loss_objectness': tensor(0.0486, device='cuda:0', grad_fn=<BinaryCrossEntropyWithLogitsBackward>), 'loss_rpn_box_reg': tensor(0.0214, device='cuda:0', grad_fn=<DivBackward0>)}\n",
            "{'loss_classifier': tensor(0.1447, device='cuda:0', grad_fn=<NllLossBackward>), 'loss_box_reg': tensor(0.3121, device='cuda:0', grad_fn=<DivBackward0>), 'loss_objectness': tensor(0.0535, device='cuda:0', grad_fn=<BinaryCrossEntropyWithLogitsBackward>), 'loss_rpn_box_reg': tensor(0.0334, device='cuda:0', grad_fn=<DivBackward0>)}\n",
            "{'loss_classifier': tensor(0.1553, device='cuda:0', grad_fn=<NllLossBackward>), 'loss_box_reg': tensor(0.3076, device='cuda:0', grad_fn=<DivBackward0>), 'loss_objectness': tensor(0.0389, device='cuda:0', grad_fn=<BinaryCrossEntropyWithLogitsBackward>), 'loss_rpn_box_reg': tensor(0.0174, device='cuda:0', grad_fn=<DivBackward0>)}\n",
            "{'loss_classifier': tensor(0.1970, device='cuda:0', grad_fn=<NllLossBackward>), 'loss_box_reg': tensor(0.3400, device='cuda:0', grad_fn=<DivBackward0>), 'loss_objectness': tensor(0.0390, device='cuda:0', grad_fn=<BinaryCrossEntropyWithLogitsBackward>), 'loss_rpn_box_reg': tensor(0.0171, device='cuda:0', grad_fn=<DivBackward0>)}\n",
            "{'loss_classifier': tensor(0.1529, device='cuda:0', grad_fn=<NllLossBackward>), 'loss_box_reg': tensor(0.3191, device='cuda:0', grad_fn=<DivBackward0>), 'loss_objectness': tensor(0.0219, device='cuda:0', grad_fn=<BinaryCrossEntropyWithLogitsBackward>), 'loss_rpn_box_reg': tensor(0.0096, device='cuda:0', grad_fn=<DivBackward0>)}\n",
            "{'loss_classifier': tensor(0.1856, device='cuda:0', grad_fn=<NllLossBackward>), 'loss_box_reg': tensor(0.3946, device='cuda:0', grad_fn=<DivBackward0>), 'loss_objectness': tensor(0.0916, device='cuda:0', grad_fn=<BinaryCrossEntropyWithLogitsBackward>), 'loss_rpn_box_reg': tensor(0.0385, device='cuda:0', grad_fn=<DivBackward0>)}\n",
            "{'loss_classifier': tensor(0.1429, device='cuda:0', grad_fn=<NllLossBackward>), 'loss_box_reg': tensor(0.2823, device='cuda:0', grad_fn=<DivBackward0>), 'loss_objectness': tensor(0.0270, device='cuda:0', grad_fn=<BinaryCrossEntropyWithLogitsBackward>), 'loss_rpn_box_reg': tensor(0.0175, device='cuda:0', grad_fn=<DivBackward0>)}\n",
            "{'loss_classifier': tensor(0.1317, device='cuda:0', grad_fn=<NllLossBackward>), 'loss_box_reg': tensor(0.2928, device='cuda:0', grad_fn=<DivBackward0>), 'loss_objectness': tensor(0.0423, device='cuda:0', grad_fn=<BinaryCrossEntropyWithLogitsBackward>), 'loss_rpn_box_reg': tensor(0.0299, device='cuda:0', grad_fn=<DivBackward0>)}\n",
            "{'loss_classifier': tensor(0.1437, device='cuda:0', grad_fn=<NllLossBackward>), 'loss_box_reg': tensor(0.3265, device='cuda:0', grad_fn=<DivBackward0>), 'loss_objectness': tensor(0.0607, device='cuda:0', grad_fn=<BinaryCrossEntropyWithLogitsBackward>), 'loss_rpn_box_reg': tensor(0.0392, device='cuda:0', grad_fn=<DivBackward0>)}\n",
            "{'loss_classifier': tensor(0.1633, device='cuda:0', grad_fn=<NllLossBackward>), 'loss_box_reg': tensor(0.3124, device='cuda:0', grad_fn=<DivBackward0>), 'loss_objectness': tensor(0.0456, device='cuda:0', grad_fn=<BinaryCrossEntropyWithLogitsBackward>), 'loss_rpn_box_reg': tensor(0.0152, device='cuda:0', grad_fn=<DivBackward0>)}\n",
            "{'loss_classifier': tensor(0.1409, device='cuda:0', grad_fn=<NllLossBackward>), 'loss_box_reg': tensor(0.2661, device='cuda:0', grad_fn=<DivBackward0>), 'loss_objectness': tensor(0.0333, device='cuda:0', grad_fn=<BinaryCrossEntropyWithLogitsBackward>), 'loss_rpn_box_reg': tensor(0.0171, device='cuda:0', grad_fn=<DivBackward0>)}\n"
          ]
        }
      ]
    },
    {
      "cell_type": "code",
      "metadata": {
        "id": "NSsu73T0ROfn"
      },
      "source": [
        "torch.save(model.state_dict(), 'drive/MyDrive/salvataggi_pytorch/trained_one_epoch/model_state_dict')"
      ],
      "execution_count": null,
      "outputs": []
    },
    {
      "cell_type": "code",
      "metadata": {
        "id": "cK29t2QOY_eQ"
      },
      "source": [
        "torch.save(model, 'drive/MyDrive/salvataggi_pytorch/trained_one_epoch/model')"
      ],
      "execution_count": null,
      "outputs": []
    },
    {
      "cell_type": "code",
      "metadata": {
        "id": "coPUjpRhZYPw"
      },
      "source": [
        "torch.save(opt.state_dict(), 'drive/MyDrive/salvataggi_pytorch/trained_one_epoch/optimizer_state_dict')"
      ],
      "execution_count": null,
      "outputs": []
    },
    {
      "cell_type": "code",
      "metadata": {
        "id": "-onRzwRFZ0uY"
      },
      "source": [
        "for key in out.keys():\n",
        "  torch.save(out[key], 'drive/MyDrive/salvataggi_pytorch/trained_one_epoch/' + str(key))"
      ],
      "execution_count": null,
      "outputs": []
    },
    {
      "cell_type": "code",
      "metadata": {
        "id": "x-G3IaTNZ8tK"
      },
      "source": [
        ""
      ],
      "execution_count": null,
      "outputs": []
    }
  ]
}